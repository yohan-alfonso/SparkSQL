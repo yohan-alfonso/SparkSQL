{
 "cells": [
  {
   "attachments": {},
   "cell_type": "markdown",
   "metadata": {},
   "source": [
    "# Algorithm with Spark SQL\n",
    "\n",
    "Using the files pilotos.csv and vuelos.csv create datesets and retrieve data"
   ]
  },
  {
   "cell_type": "code",
   "execution_count": null,
   "metadata": {},
   "outputs": [],
   "source": [
    "#pip install unidecode"
   ]
  },
  {
   "cell_type": "code",
   "execution_count": 1,
   "metadata": {},
   "outputs": [],
   "source": [
    "\"\"\"\n",
    "Import Libraries\n",
    "\"\"\"\n",
    "import findspark\n",
    "findspark.init()\n",
    "from unidecode import unidecode\n",
    "from pyspark.sql.functions import udf\n",
    "from pyspark.sql import SparkSession  # SparkSession representa la conexión para trabajar con SQL\n",
    "from pyspark import SparkConf, SparkContext # SparkContext configuración de spark\n",
    "\n",
    "\n",
    "\"\"\"\n",
    "# start variables\n",
    "\"\"\"\n",
    "sparkConf = SparkConf().setAppName(\"My SparkQL Application\")\n",
    "sc = SparkContext(conf=sparkConf)\n",
    "spark = SparkSession(sc)\n",
    "spark.sparkContext.setLogLevel(\"ERROR\")"
   ]
  },
  {
   "cell_type": "code",
   "execution_count": 18,
   "metadata": {},
   "outputs": [
    {
     "name": "stdout",
     "output_type": "stream",
     "text": [
      "+-------------+---------------+\n",
      "|Codigo Piloto|         Piloto|\n",
      "+-------------+---------------+\n",
      "|        43556|       John Max|\n",
      "|        43557|   Jilles Vlank|\n",
      "|        43558|    Jorge Mej�a|\n",
      "|        43559|David Colindres|\n",
      "|        43560|Maximilian Call|\n",
      "+-------------+---------------+\n",
      "only showing top 5 rows\n",
      "\n",
      "+-------------+---------+------+-------+------------------+------+\n",
      "|Codigo Piloto|Aerolinea|Origen|Destino|Minutos de retraso|OnTime|\n",
      "+-------------+---------+------+-------+------------------+------+\n",
      "|        43556|       10|   SAP|    HAJ|                40|  null|\n",
      "|        43557|        5|   MIA|    MIA|                30|  null|\n",
      "|        43558|        3|   FLL|    FLL|                20|  null|\n",
      "|        43559|        1|   TEG|    SAP|                 0|  null|\n",
      "|        43560|        1|   HAJ|    SAP|                50|  null|\n",
      "|        43561|        8|   HHN|    SAP|                20|  null|\n",
      "|        43562|        2|   SAP|    HAJ|               -30|  null|\n",
      "|        43563|        8|   MIA|    HHN|               -30|  null|\n",
      "|        43564|       10|   FLL|    SAP|               -30|  null|\n",
      "|        43565|        7|   TEG|    TEG|                 0|  null|\n",
      "+-------------+---------+------+-------+------------------+------+\n",
      "only showing top 10 rows\n",
      "\n"
     ]
    }
   ],
   "source": [
    "\n",
    "\"\"\"----- Create dataframes----\"\"\"\n",
    "vuelos_ = spark.read.load(\n",
    "    \"vuelos.csv\", format=\"csv\", sep=\",\", inferSchema=\"true\", header=\"true\",\n",
    ")\n",
    "\n",
    "pilotos = spark.read.load(\n",
    "    \"pilotos.csv\", format=\"csv\", sep=\",\", inferSchema=\"true\", header=\"true\",\n",
    ")\n",
    "pilotos.show(5)\n",
    "\n",
    "vuelos=vuelos_.withColumnRenamed(\"Aerolínea\",\"Aerolinea\")  #Se modifica este campo para no tener problemas de caracteres extraños\n",
    "\n",
    "vuelos.show(10)"
   ]
  },
  {
   "cell_type": "code",
   "execution_count": 5,
   "metadata": {},
   "outputs": [],
   "source": [
    "\n",
    "\"\"\"------function to take away strange characters---\"\"\"\n",
    "def correccion (x):\n",
    "    return unidecode(x)\n",
    "ascii_udf = udf(correccion)"
   ]
  },
  {
   "cell_type": "code",
   "execution_count": 11,
   "metadata": {},
   "outputs": [
    {
     "name": "stdout",
     "output_type": "stream",
     "text": [
      "+-------------+---------------+---------------+\n",
      "|Codigo Piloto|         Piloto|        Piloto_|\n",
      "+-------------+---------------+---------------+\n",
      "|        43556|       John Max|       John Max|\n",
      "|        43557|   Jilles Vlank|   Jilles Vlank|\n",
      "|        43558|    Jorge Mej�a|     Jorge Meja|\n",
      "|        43559|David Colindres|David Colindres|\n",
      "|        43560|Maximilian Call|Maximilian Call|\n",
      "|        43561|   Muilin Mills|   Muilin Mills|\n",
      "|        43562|    Gianni Falk|    Gianni Falk|\n",
      "|        43563|       Hous Hih|       Hous Hih|\n",
      "|        43564|       Cho Ming|       Cho Ming|\n",
      "|        43565|        Chao Ma|        Chao Ma|\n",
      "+-------------+---------------+---------------+\n",
      "only showing top 10 rows\n",
      "\n"
     ]
    }
   ],
   "source": [
    "\"\"\"-----#Create a new dataframe with the column pilot witout strange Characters---\"\"\"\n",
    "df_pilotos = pilotos.withColumn(\"Piloto_\", ascii_udf('Piloto'))\n",
    "df_pilotos.show(10)\n"
   ]
  },
  {
   "cell_type": "code",
   "execution_count": 7,
   "metadata": {},
   "outputs": [],
   "source": [
    "\"\"\"----- create Temp View to work with SQL -----\"\"\"\n",
    "vuelos.createOrReplaceTempView(\"vw_vuelos\")  # este es el nombre de la tabla\n",
    "df_pilotos.createOrReplaceTempView(\"vw_pilotos\")  # este es el nombre de la tabla"
   ]
  },
  {
   "cell_type": "code",
   "execution_count": 26,
   "metadata": {},
   "outputs": [
    {
     "name": "stdout",
     "output_type": "stream",
     "text": [
      "+------------+---------+\n",
      "|cant_flights|aerolinea|\n",
      "+------------+---------+\n",
      "|         457|        7|\n",
      "+------------+---------+\n",
      "\n"
     ]
    }
   ],
   "source": [
    "# Easiest solution\n",
    "spark.sql(\"select  count(Aerolinea) cant_flights,aerolinea from vw_vuelos group by aerolinea ORDER BY 1 DESC LIMIT 1\").show()"
   ]
  },
  {
   "cell_type": "code",
   "execution_count": 25,
   "metadata": {},
   "outputs": [
    {
     "name": "stdout",
     "output_type": "stream",
     "text": [
      "\n",
      " Which airline has more fligths?\n",
      "\n",
      "+----+---------+--------+\n",
      "|rank|aerolinea|n_viajes|\n",
      "+----+---------+--------+\n",
      "|   1|        7|     457|\n",
      "+----+---------+--------+\n",
      "\n"
     ]
    }
   ],
   "source": [
    "print(\"\\n Which airline has more fligths?\\n\")\n",
    "\n",
    "# Dos formas de dar solución a la pregunta:\n",
    "\n",
    "# Con dense_rank\n",
    "spark.sql(\"with n_vuelos(select count(Aerolinea) cant_origen,aerolinea from vw_vuelos group by aerolinea)\\\n",
    "            ,max_aer(SELECT DENSE_RANK() OVER (ORDER BY cant_origen DESC) rank\\\n",
    "                ,aerolinea,cant_origen as n_viajes from n_vuelos) \\\n",
    "                    select * from max_aer  WHERE RANK = 1\").show()\n",
    "\n"
   ]
  },
  {
   "cell_type": "code",
   "execution_count": 13,
   "metadata": {},
   "outputs": [
    {
     "name": "stdout",
     "output_type": "stream",
     "text": [
      "+---------+-----------+\n",
      "|Aerolinea|cant_vuelos|\n",
      "+---------+-----------+\n",
      "|        7|        457|\n",
      "+---------+-----------+\n",
      "\n"
     ]
    }
   ],
   "source": [
    "\n",
    "# Con subconsultas\n",
    "spark.sql(\" WITH vw_max_vuelos as\\\n",
    "                (SELECT Aerolinea, COUNT(Aerolinea) AS cant_vuelos FROM vw_vuelos\\\n",
    "                 GROUP BY Aerolinea)\\\n",
    "                        SELECT Aerolinea, cant_vuelos FROM vw_max_vuelos\\\n",
    "                        WHERE cant_vuelos >= (SELECT MAX(cant_vuelos) FROM vw_max_vuelos )\").show()"
   ]
  },
  {
   "cell_type": "code",
   "execution_count": 27,
   "metadata": {},
   "outputs": [
    {
     "name": "stdout",
     "output_type": "stream",
     "text": [
      "\n",
      "Which origin has more frecuency?\n",
      "\n",
      "+----+------+--------+\n",
      "|RANK|ORIGEN|CANTIDAD|\n",
      "+----+------+--------+\n",
      "|   1|   SAP|    1404|\n",
      "+----+------+--------+\n",
      "\n"
     ]
    },
    {
     "data": {
      "text/plain": [
       "DataFrame[Origen: string, cant_origen: bigint]"
      ]
     },
     "execution_count": 27,
     "metadata": {},
     "output_type": "execute_result"
    }
   ],
   "source": [
    "print(\"\\nWhich origin has more frecuency?\\n\")\n",
    "#dos formas de resolverlo\n",
    "# Con dense_rank\n",
    "spark.sql(\"WITH CANTIDAD AS (SELECT COUNT(1) CANTIDAD,ORIGEN FROM vw_vuelos group by origen)\\\n",
    "            , MAX_ORIG AS (SELECT DENSE_RANK() OVER (ORDER BY CANTIDAD DESC)RANK,ORIGEN,CANTIDAD FROM CANTIDAD)\\\n",
    "                 SELECT * FROM MAX_ORIG WHERE RANK = 1\").show()\n",
    "\n",
    "\n",
    "# Con subconsultas\n",
    "spark.sql(\" WITH vw_max_origen as\\\n",
    "                (SELECT Origen, COUNT(Origen) AS cant_origen FROM vw_vuelos\\\n",
    "                 GROUP BY Origen)\\\n",
    "                        SELECT Origen, cant_origen FROM vw_max_origen\\\n",
    "                        WHERE cant_origen>= (SELECT MAX(cant_origen) FROM vw_max_origen )\")"
   ]
  },
  {
   "cell_type": "code",
   "execution_count": 32,
   "metadata": {},
   "outputs": [
    {
     "name": "stdout",
     "output_type": "stream",
     "text": [
      "+-----------+------+\n",
      "|cant_origin|Origen|\n",
      "+-----------+------+\n",
      "|       1404|   SAP|\n",
      "+-----------+------+\n",
      "\n"
     ]
    }
   ],
   "source": [
    "spark.sql(\"select  count(Origen) cant_origin ,Origen from vw_vuelos group by Origen ORDER BY 1 DESC LIMIT 1\").show()"
   ]
  },
  {
   "cell_type": "code",
   "execution_count": 33,
   "metadata": {},
   "outputs": [
    {
     "name": "stdout",
     "output_type": "stream",
     "text": [
      "\n",
      "From where the airline 8 flights with more frecuency\n",
      "\n",
      "+----+-----------+------+---------+\n",
      "|rank|cant_origen|origen|aerolinea|\n",
      "+----+-----------+------+---------+\n",
      "|   1|        134|   SAP|        8|\n",
      "+----+-----------+------+---------+\n",
      "\n",
      "+-----------+------+---------+\n",
      "|cant_origen|origen|aerolinea|\n",
      "+-----------+------+---------+\n",
      "|        134|   SAP|        8|\n",
      "+-----------+------+---------+\n",
      "\n"
     ]
    }
   ],
   "source": [
    "\n",
    "print(\"\\nFrom where the airline 8 flights with more frecuency\\n\")\n",
    "#Dos formas de resolverlo\n",
    "# Con dense_rank\n",
    "spark.sql(\"with num_ori_aer as(select count(1) cant_origen,origen,aerolinea from vw_vuelos where aerolinea = 8 \\\n",
    "             group by origen,aerolinea)\\\n",
    "                , max_aer as (select dense_rank() over (order by cant_origen desc) rank, cant_origen,origen,aerolinea from num_ori_aer)\\\n",
    "                    select * from max_aer where rank =1\").show()\n",
    "\n",
    "# simple\n",
    "spark.sql(\"select count(1) cant_origen,origen,aerolinea from vw_vuelos where aerolinea = 8 \\\n",
    "             group by origen,aerolinea order by 1 desc limit 1\").show()"
   ]
  },
  {
   "cell_type": "code",
   "execution_count": 35,
   "metadata": {},
   "outputs": [
    {
     "name": "stdout",
     "output_type": "stream",
     "text": [
      "\n",
      "Wich pilot has more flights?\n",
      "\n",
      "+-----------+------------+\n",
      "|cant_vuelos|      Piloto|\n",
      "+-----------+------------+\n",
      "|       1028|Jonh Pierson|\n",
      "+-----------+------------+\n",
      "\n",
      "+------------+------+\n",
      "|      Piloto|Vuelos|\n",
      "+------------+------+\n",
      "|Jonh Pierson|  1028|\n",
      "+------------+------+\n",
      "\n"
     ]
    }
   ],
   "source": [
    "\n",
    "print(\"\\nWich pilot has more flights?\\n\")\n",
    "\n",
    "spark.sql(\"SELECT count(Origen) cant_vuelos,b.Piloto FROM vw_vuelos a \\\n",
    "           inner join vw_pilotos b on a.`codigo piloto` = b.`codigo piloto` \\\n",
    "             group by a.`codigo piloto`,b.piloto order by 1 desc limit 1 \").show()\n",
    "\n",
    "\n",
    "spark.sql(\"SELECT P.Piloto, COUNT(*) AS Vuelos FROM vw_vuelos V \\\n",
    "    INNER JOIN vw_pilotos P ON V.`Codigo Piloto` = P.`Codigo Piloto`\\\n",
    "        GROUP BY P.Piloto ORDER BY 2 DESC  LIMIT 1;\").show()"
   ]
  }
 ],
 "metadata": {
  "kernelspec": {
   "display_name": "Python 3",
   "language": "python",
   "name": "python3"
  },
  "language_info": {
   "codemirror_mode": {
    "name": "ipython",
    "version": 3
   },
   "file_extension": ".py",
   "mimetype": "text/x-python",
   "name": "python",
   "nbconvert_exporter": "python",
   "pygments_lexer": "ipython3",
   "version": "3.9.13"
  },
  "orig_nbformat": 4
 },
 "nbformat": 4,
 "nbformat_minor": 2
}
